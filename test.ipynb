{
 "cells": [
  {
   "cell_type": "code",
   "execution_count": 1,
   "metadata": {},
   "outputs": [
    {
     "name": "stdout",
     "output_type": "stream",
     "text": [
      "hola mundo\n"
     ]
    }
   ],
   "source": []
  },
  {
   "cell_type": "code",
   "execution_count": 5,
   "metadata": {},
   "outputs": [
    {
     "name": "stdout",
     "output_type": "stream",
     "text": [
      "[55, 84, 21, 67, 93, 79]\n"
     ]
    }
   ],
   "source": [
    "arr= [55,84,21,67,93,79]\n",
    "def mergeSort(arr): \n",
    "    if len(arr) == 1:\n",
    "        return arr\n",
    "\n",
    "    middle = len(arr) // 2\n",
    "    left_array = arr[:middle]\n",
    "    right_array = arr[middle:]\n",
    "\n",
    "    sorted_left_array = mergeSort(left_array)\n",
    "    sorted_right_array = mergeSort(right_array)\n",
    "\n",
    "    return Merge(sorted_left_array, sorted_right_array)\n",
    "\n",
    "def Merge(left_arr, right_arr):\n",
    "    arr_resultado = []\n",
    "    while len(left_arr) > 0 and len(right_arr) > 0:\n",
    "        if left_arr[0] > right_arr[0]:\n",
    "            arr_resultado.append(right_arr[0]) \n",
    "            right_arr.pop(0)\n",
    "        else:\n",
    "            arr_resultado.append(left_arr[0]) \n",
    "            left_arr.pop(0)\n",
    "\n",
    "    while len(left_arr) > 0:\n",
    "        arr_resultado.append(left_arr[0]) \n",
    "        left_arr.pop(0)\n",
    "\n",
    "    while len(right_arr) > 0:\n",
    "        arr_resultado.append(right_arr[0])\n",
    "        right_arr.pop(0)\n",
    "    return arr_resultado\n",
    "arr_resultado = mergeSort(arr)\n",
    "print(arr)\n"
   ]
  },
  {
   "cell_type": "code",
   "execution_count": 2,
   "metadata": {},
   "outputs": [
    {
     "name": "stdout",
     "output_type": "stream",
     "text": [
      "6\n",
      "4\n",
      "9\n",
      "10\n",
      "7\n"
     ]
    }
   ],
   "source": [
    "for elemento in [6, 4, 9, 10, 7]:\n",
    "    print(elemento)"
   ]
  },
  {
   "cell_type": "code",
   "execution_count": null,
   "metadata": {},
   "outputs": [],
   "source": [
    "def insertion_sort(lista):\n",
    "    for imdice in range(len(lista)):\n"
   ]
  },
  {
   "cell_type": "code",
   "execution_count": 15,
   "metadata": {},
   "outputs": [
    {
     "name": "stdout",
     "output_type": "stream",
     "text": [
      "indice:0,lista0:1\n",
      "indice:1,lista1:4\n",
      "indice:2,lista2:9\n",
      "indice:3,lista3:-3\n",
      "indice:4,lista4:4.5\n",
      "indice:5,lista5:8\n"
     ]
    }
   ],
   "source": [
    "a = [1,4,9,-3,4.5,8]\n",
    "\n",
    "def insertion_sort(lista):\n",
    "    for indice in range(len(lista)):\n",
    "#        print(indice)\n",
    "#       print(lista[indice])\n",
    "        print(f'indice:{indice},lista{indice}:{lista[indice]}')\n",
    "\n",
    "insertion_sort(lista):\n",
    "    for indice in range(1, len(lista)):\n",
    "    ini"
   ]
  },
  {
   "cell_type": "code",
   "execution_count": 20,
   "metadata": {},
   "outputs": [
    {
     "name": "stdout",
     "output_type": "stream",
     "text": [
      "0\n",
      "1\n",
      "2\n",
      "3\n",
      "4\n",
      "5\n"
     ]
    }
   ],
   "source": [
    "for i  in range (6):\n",
    "    print(i)"
   ]
  },
  {
   "cell_type": "code",
   "execution_count": 1,
   "metadata": {},
   "outputs": [
    {
     "name": "stdout",
     "output_type": "stream",
     "text": [
      "indice:1\n",
      "indice_proc: 0, lista:[4, 41, 9, -3, 4.5, 8]\n",
      "indice:2\n",
      "indice_proc: 1, lista:[4, 9, 41, -3, 4.5, 8]\n",
      "indice_proc: 0, lista:[4, 9, 41, -3, 4.5, 8]\n",
      "indice:3\n",
      "indice_proc: 2, lista:[4, 9, -3, 41, 4.5, 8]\n",
      "indice_proc: 1, lista:[4, -3, 9, 41, 4.5, 8]\n",
      "indice_proc: 0, lista:[-3, 4, 9, 41, 4.5, 8]\n",
      "indice:4\n",
      "indice_proc: 3, lista:[-3, 4, 9, 4.5, 41, 8]\n",
      "indice_proc: 2, lista:[-3, 4, 4.5, 9, 41, 8]\n",
      "indice_proc: 1, lista:[-3, 4, 4.5, 9, 41, 8]\n",
      "indice_proc: 0, lista:[-3, 4, 4.5, 9, 41, 8]\n",
      "indice:5\n",
      "indice_proc: 4, lista:[-3, 4, 4.5, 9, 8, 41]\n",
      "indice_proc: 3, lista:[-3, 4, 4.5, 8, 9, 41]\n",
      "indice_proc: 2, lista:[-3, 4, 4.5, 8, 9, 41]\n",
      "indice_proc: 1, lista:[-3, 4, 4.5, 8, 9, 41]\n",
      "indice_proc: 0, lista:[-3, 4, 4.5, 8, 9, 41]\n"
     ]
    }
   ],
   "source": [
    "a = [41,4 ,9 , -3, 4.5, 8]\n",
    "def insertion_sort(lista):\n",
    "    for indice in range(1,len(lista)):\n",
    "        print(f'indice:{indice}')\n",
    "        indice_proc = indice\n",
    "        while indice_proc > 0:\n",
    "            if lista[indice_proc-1] > lista [indice_proc]:\n",
    "                temp = lista[indice_proc-1]\n",
    "                lista[indice_proc-1] = lista[indice_proc]\n",
    "                lista[indice_proc] = temp\n",
    "            indice_proc -=1\n",
    "            print(f'indice_proc: {indice_proc}, lista:{lista}')\n",
    "insertion_sort(a)"
   ]
  }
 ],
 "metadata": {
  "kernelspec": {
   "display_name": "Python 3",
   "language": "python",
   "name": "python3"
  },
  "language_info": {
   "codemirror_mode": {
    "name": "ipython",
    "version": 3
   },
   "file_extension": ".py",
   "mimetype": "text/x-python",
   "name": "python",
   "nbconvert_exporter": "python",
   "pygments_lexer": "ipython3",
   "version": "3.11.5"
  }
 },
 "nbformat": 4,
 "nbformat_minor": 2
}
